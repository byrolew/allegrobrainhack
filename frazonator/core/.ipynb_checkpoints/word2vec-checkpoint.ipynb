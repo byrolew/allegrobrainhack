{
 "cells": [
  {
   "cell_type": "code",
   "execution_count": 20,
   "metadata": {
    "collapsed": false,
    "deletable": true,
    "editable": true
   },
   "outputs": [
    {
     "name": "stdout",
     "output_type": "stream",
     "text": [
      "Cloning into 'word2vec'...\n",
      "remote: Counting objects: 124, done.\u001b[K\n",
      "remote: Total 124 (delta 0), reused 0 (delta 0), pack-reused 124\u001b[K Receiving objects:   4% (5/124)   Receiving objects:   6% (8/124)   Receiving objects:   8% (10/124)   Receiving objects:  10% (13/124)   Receiving objects:  12% (15/124)   Receiving objects:  14% (18/124)   Receiving objects:  16% (20/124)   Receiving objects:  18% (23/124)   Receiving objects:  20% (25/124)   Receiving objects:  22% (28/124)   Receiving objects:  24% (30/124)   Receiving objects:  26% (33/124)   Receiving objects:  28% (35/124)   Receiving objects:  30% (38/124)   Receiving objects:  32% (40/124)   Receiving objects:  34% (43/124)   Receiving objects:  36% (45/124)   Receiving objects:  38% (48/124)   Receiving objects:  40% (50/124)   Receiving objects:  42% (53/124)   Receiving objects:  44% (55/124)   Receiving objects:  46% (58/124)   Receiving objects:  48% (60/124)   Receiving objects:  50% (62/124)   Receiving objects:  52% (65/124)   Receiving objects:  54% (67/124)   Receiving objects:  56% (70/124)   Receiving objects:  58% (72/124)   Receiving objects:  60% (75/124)   Receiving objects:  62% (77/124)   Receiving objects:  64% (80/124)   Receiving objects:  66% (82/124)   Receiving objects:  68% (85/124)   Receiving objects:  70% (87/124)   Receiving objects:  72% (90/124)   Receiving objects:  74% (92/124)   Receiving objects:  76% (95/124)   Receiving objects:  78% (97/124)   Receiving objects:  80% (100/124)   Receiving objects:  81% (101/124)   Receiving objects:  83% (103/124)   Receiving objects:  85% (106/124)   Receiving objects:  87% (108/124)   Receiving objects:  89% (111/124)   Receiving objects:  91% (113/124)   Receiving objects:  93% (116/124)   Receiving objects:  95% (118/124)   Receiving objects:  97% (121/124)   \n",
      "Receiving objects: 100% (124/124), 113.48 KiB | 0 bytes/s, done./124)   \n",
      "Resolving deltas: 100% (73/73), done.ving deltas:  24% (18/73)   Resolving deltas:  32% (24/73)   Resolving deltas:  45% (33/73)   Resolving deltas:  47% (35/73)   Resolving deltas:  69% (51/73)   Resolving deltas:  83% (61/73)   Resolving deltas: 100% (73/73)   \n",
      "Checking connectivity... done.\n"
     ]
    }
   ],
   "source": [
    "!git clone https://github.com/dav/word2vec"
   ]
  },
  {
   "cell_type": "code",
   "execution_count": 21,
   "metadata": {
    "collapsed": false,
    "deletable": true,
    "editable": true
   },
   "outputs": [
    {
     "name": "stdout",
     "output_type": "stream",
     "text": [
      "gcc word2vec.c -o ../bin/word2vec -lm -pthread -O2 -Wall -funroll-loops -Wno-unused-result\n",
      "gcc word2phrase.c -o ../bin/word2phrase -lm -pthread -O2 -Wall -funroll-loops -Wno-unused-result\n",
      "gcc distance.c -o ../bin/distance -lm -pthread -O2 -Wall -funroll-loops -Wno-unused-result\n",
      "gcc word-analogy.c -o ../bin/word-analogy -lm -pthread -O2 -Wall -funroll-loops -Wno-unused-result\n",
      "gcc compute-accuracy.c -o ../bin/compute-accuracy -lm -pthread -O2 -Wall -funroll-loops -Wno-unused-result\n",
      "chmod +x ../scripts/*.sh\n"
     ]
    }
   ],
   "source": [
    "!cd word2vec/src/; make"
   ]
  },
  {
   "cell_type": "code",
   "execution_count": 37,
   "metadata": {
    "collapsed": false,
    "deletable": true,
    "editable": true
   },
   "outputs": [
    {
     "name": "stdout",
     "output_type": "stream",
     "text": [
      "Starting training using file corpus_all.txt\n",
      "Vocab size: 341360\n",
      "Words in train file: 71067786\n"
     ]
    }
   ],
   "source": [
    "!word2vec/bin/word2vec -train corpus_all.txt -output vectors.txt -cbow 0 -size 100 -window 5 -negative 0 -hs 1 -sample 1e-3 -threads 8 -binary 0 -debug 1"
   ]
  },
  {
   "cell_type": "code",
   "execution_count": 1,
   "metadata": {
    "collapsed": true,
    "deletable": true,
    "editable": true
   },
   "outputs": [],
   "source": [
    "import numpy as np\n",
    "from gensim.models import KeyedVectors"
   ]
  },
  {
   "cell_type": "code",
   "execution_count": null,
   "metadata": {
    "collapsed": false,
    "deletable": true,
    "editable": true
   },
   "outputs": [],
   "source": [
    "model = KeyedVectors.load_word2vec_format('vectors.txt', binary=False, unicode_errors='replace')"
   ]
  },
  {
   "cell_type": "code",
   "execution_count": 5,
   "metadata": {
    "collapsed": false,
    "deletable": true,
    "editable": true
   },
   "outputs": [
    {
     "name": "stdout",
     "output_type": "stream",
     "text": [
      "0.9102892875671387 ps4\n",
      "0.9094364047050476 xbox360\n",
      "0.8952406644821167 gry\n",
      "0.8732651472091675 ps2\n",
      "0.859046220779419 pc\n",
      "0.8111828565597534 gta5\n",
      "0.8096027374267578 wyscigi\n",
      "0.8058351874351501 xdox\n",
      "0.8041494488716125 strzelanki\n",
      "0.7999349236488342 konsole\n"
     ]
    }
   ],
   "source": [
    "for word, score in model.most_similar(positive=['ps3'], negative=[]):\n",
    "    print(score, word)"
   ]
  },
  {
   "cell_type": "code",
   "execution_count": 9,
   "metadata": {
    "collapsed": false,
    "deletable": true,
    "editable": true
   },
   "outputs": [
    {
     "ename": "ValueError",
     "evalue": "not enough values to unpack (expected 2, got 1)",
     "output_type": "error",
     "traceback": [
      "\u001b[0;31m---------------------------------------------------------------------------\u001b[0m",
      "\u001b[0;31mValueError\u001b[0m                                Traceback (most recent call last)",
      "\u001b[0;32m<ipython-input-9-1bab9b572d63>\u001b[0m in \u001b[0;36m<module>\u001b[0;34m()\u001b[0m\n\u001b[0;32m----> 1\u001b[0;31m \u001b[0mmodel\u001b[0m\u001b[0;34m.\u001b[0m\u001b[0msimilar_by_vector\u001b[0m\u001b[0;34m(\u001b[0m\u001b[0;34m[\u001b[0m\u001b[0mnp\u001b[0m\u001b[0;34m.\u001b[0m\u001b[0mzeros\u001b[0m\u001b[0;34m(\u001b[0m\u001b[0;36m100\u001b[0m\u001b[0;34m)\u001b[0m\u001b[0;34m]\u001b[0m\u001b[0;34m)\u001b[0m\u001b[0;34m\u001b[0m\u001b[0m\n\u001b[0m",
      "\u001b[0;32m/Users/PiotrRybak/.pyenv/versions/3.5.2/envs/brain_code/lib/python3.5/site-packages/gensim/models/keyedvectors.py\u001b[0m in \u001b[0;36msimilar_by_vector\u001b[0;34m(self, vector, topn, restrict_vocab)\u001b[0m\n\u001b[1;32m    522\u001b[0m         \"\"\"\n\u001b[1;32m    523\u001b[0m \u001b[0;34m\u001b[0m\u001b[0m\n\u001b[0;32m--> 524\u001b[0;31m         \u001b[0;32mreturn\u001b[0m \u001b[0mself\u001b[0m\u001b[0;34m.\u001b[0m\u001b[0mmost_similar\u001b[0m\u001b[0;34m(\u001b[0m\u001b[0mpositive\u001b[0m\u001b[0;34m=\u001b[0m\u001b[0;34m[\u001b[0m\u001b[0mvector\u001b[0m\u001b[0;34m]\u001b[0m\u001b[0;34m,\u001b[0m \u001b[0mtopn\u001b[0m\u001b[0;34m=\u001b[0m\u001b[0mtopn\u001b[0m\u001b[0;34m,\u001b[0m \u001b[0mrestrict_vocab\u001b[0m\u001b[0;34m=\u001b[0m\u001b[0mrestrict_vocab\u001b[0m\u001b[0;34m)\u001b[0m\u001b[0;34m\u001b[0m\u001b[0m\n\u001b[0m\u001b[1;32m    525\u001b[0m \u001b[0;34m\u001b[0m\u001b[0m\n\u001b[1;32m    526\u001b[0m     \u001b[0;32mdef\u001b[0m \u001b[0mdoesnt_match\u001b[0m\u001b[0;34m(\u001b[0m\u001b[0mself\u001b[0m\u001b[0;34m,\u001b[0m \u001b[0mwords\u001b[0m\u001b[0;34m)\u001b[0m\u001b[0;34m:\u001b[0m\u001b[0;34m\u001b[0m\u001b[0m\n",
      "\u001b[0;32m/Users/PiotrRybak/.pyenv/versions/3.5.2/envs/brain_code/lib/python3.5/site-packages/gensim/models/keyedvectors.py\u001b[0m in \u001b[0;36mmost_similar\u001b[0;34m(self, positive, negative, topn, restrict_vocab, indexer)\u001b[0m\n\u001b[1;32m    314\u001b[0m         \u001b[0;31m# compute the weighted average of all words\u001b[0m\u001b[0;34m\u001b[0m\u001b[0;34m\u001b[0m\u001b[0m\n\u001b[1;32m    315\u001b[0m         \u001b[0mall_words\u001b[0m\u001b[0;34m,\u001b[0m \u001b[0mmean\u001b[0m \u001b[0;34m=\u001b[0m \u001b[0mset\u001b[0m\u001b[0;34m(\u001b[0m\u001b[0;34m)\u001b[0m\u001b[0;34m,\u001b[0m \u001b[0;34m[\u001b[0m\u001b[0;34m]\u001b[0m\u001b[0;34m\u001b[0m\u001b[0m\n\u001b[0;32m--> 316\u001b[0;31m         \u001b[0;32mfor\u001b[0m \u001b[0mword\u001b[0m\u001b[0;34m,\u001b[0m \u001b[0mweight\u001b[0m \u001b[0;32min\u001b[0m \u001b[0mpositive\u001b[0m \u001b[0;34m+\u001b[0m \u001b[0mnegative\u001b[0m\u001b[0;34m:\u001b[0m\u001b[0;34m\u001b[0m\u001b[0m\n\u001b[0m\u001b[1;32m    317\u001b[0m             \u001b[0;32mif\u001b[0m \u001b[0misinstance\u001b[0m\u001b[0;34m(\u001b[0m\u001b[0mword\u001b[0m\u001b[0;34m,\u001b[0m \u001b[0mndarray\u001b[0m\u001b[0;34m)\u001b[0m\u001b[0;34m:\u001b[0m\u001b[0;34m\u001b[0m\u001b[0m\n\u001b[1;32m    318\u001b[0m                 \u001b[0mmean\u001b[0m\u001b[0;34m.\u001b[0m\u001b[0mappend\u001b[0m\u001b[0;34m(\u001b[0m\u001b[0mweight\u001b[0m \u001b[0;34m*\u001b[0m \u001b[0mword\u001b[0m\u001b[0;34m)\u001b[0m\u001b[0;34m\u001b[0m\u001b[0m\n",
      "\u001b[0;31mValueError\u001b[0m: not enough values to unpack (expected 2, got 1)"
     ]
    }
   ],
   "source": [
    "model.similar_by_vector(np.zeros(100))"
   ]
  },
  {
   "cell_type": "code",
   "execution_count": null,
   "metadata": {
    "collapsed": true,
    "deletable": true,
    "editable": true
   },
   "outputs": [],
   "source": []
  }
 ],
 "metadata": {
  "anaconda-cloud": {},
  "kernelspec": {
   "display_name": "Python 3",
   "language": "python",
   "name": "python3"
  },
  "language_info": {
   "codemirror_mode": {
    "name": "ipython",
    "version": 3
   },
   "file_extension": ".py",
   "mimetype": "text/x-python",
   "name": "python",
   "nbconvert_exporter": "python",
   "pygments_lexer": "ipython3",
   "version": "3.5.2"
  }
 },
 "nbformat": 4,
 "nbformat_minor": 0
}
